{
  "cells": [
    {
      "cell_type": "markdown",
      "metadata": {
        "id": "9pLbF4cMU6M9"
      },
      "source": [
        "# Exercise: Regular Expressions"
      ]
    },
    {
      "cell_type": "code",
      "execution_count": null,
      "metadata": {
        "id": "MUQRoRnPU6NB"
      },
      "outputs": [],
      "source": [
        "import re"
      ]
    },
    {
      "cell_type": "code",
      "execution_count": null,
      "metadata": {
        "colab": {
          "base_uri": "https://localhost:8080/"
        },
        "id": "Alpqwp0yU6NC",
        "outputId": "a3134f8b-3fe5-4979-f3a7-2d09aa6b5e69"
      },
      "outputs": [
        {
          "output_type": "stream",
          "name": "stdout",
          "text": [
            "Username: john\n",
            "Mailserver: email\n",
            "Domain: com\n",
            "\n",
            "Username: mary\n",
            "Mailserver: otherplace\n",
            "Domain: net\n",
            "\n",
            "Username: support\n",
            "Mailserver: ourcompany\n",
            "Domain: co\n",
            "\n"
          ]
        }
      ],
      "source": [
        "#1 Question: Match all email addresses (SOLVED)\n",
        "\n",
        "inputs = [\"My email is john@email.com and mary@otherplace.net\",\n",
        "          \"Visit us at support@ourcompany.co.uk for help\",\n",
        "          \"No emails here\"]\n",
        "\n",
        "pattern = r\"(\\w+)@(\\w+)\\.(\\w+)\"\n",
        "\n",
        "matches = []\n",
        "for input in inputs:\n",
        "    matches += re.findall(pattern, input)\n",
        "\n",
        "for m in matches:\n",
        "    username = m[0]\n",
        "    mailserver = m[1]\n",
        "    domain = m[2]\n",
        "    print(f\"Username: {username}\")\n",
        "    print(f\"Mailserver: {mailserver}\")\n",
        "    print(f\"Domain: {domain}\")\n",
        "    print('')"
      ]
    },
    {
      "cell_type": "code",
      "execution_count": null,
      "metadata": {
        "colab": {
          "base_uri": "https://localhost:8080/"
        },
        "id": "MmzjrM1VU6NE",
        "outputId": "4b28d72a-fe49-408c-d8eb-a77aba2fae05"
      },
      "outputs": [
        {
          "output_type": "stream",
          "name": "stdout",
          "text": [
            "com\n",
            "com\n",
            "co\n",
            "uk\n"
          ]
        }
      ],
      "source": [
        "#2 Question: Extract domain from email\n",
        "\n",
        "inputs = [\"john@email.com\",\n",
        "          \"mary+newsletter@gmail.com\",\n",
        "          \"support@ourcompany.co.uk\"]\n",
        "\n",
        "pattern = r\"\\.(\\w{2,3})\"\n",
        "\n",
        "matches = []\n",
        "for input in inputs:\n",
        "    matches += re.findall(pattern, input)\n",
        "\n",
        "for m in matches:\n",
        "    print(m)"
      ]
    },
    {
      "cell_type": "code",
      "execution_count": 15,
      "metadata": {
        "colab": {
          "base_uri": "https://localhost:8080/"
        },
        "id": "7YE-uDm-U6NE",
        "outputId": "fc53f26d-4a25-4a14-9284-389acfcbb243"
      },
      "outputs": [
        {
          "output_type": "stream",
          "name": "stdout",
          "text": [
            "555-123-4567 is a valid phone number.\n",
            "1 (234) 567-8910 is not a valid phone number.\n",
            "notaphonenumber is not a valid phone number.\n"
          ]
        }
      ],
      "source": [
        "#3 Question: Validate phone number\n",
        "\n",
        "inputs = [\"555-123-4567\",\n",
        "          \"1 (234) 567-8910\",\n",
        "          \"notaphonenumber\"]\n",
        "\n",
        "pattern = r'^(?:\\d{3}-\\d{3}-\\d{4}|\\(\\d{3}\\) \\d{3}-\\d{4})$'\n",
        "\n",
        "for phone_number in inputs:\n",
        "    if re.match(pattern, phone_number):\n",
        "        print(f\"{phone_number} is a valid phone number.\")\n",
        "    else:\n",
        "        print(f\"{phone_number} is not a valid phone number.\")"
      ]
    },
    {
      "cell_type": "code",
      "execution_count": 18,
      "metadata": {
        "colab": {
          "base_uri": "https://localhost:8080/"
        },
        "id": "bTs7txjxU6NF",
        "outputId": "3a1ee831-4804-4bb3-9a84-89c79ae27cc8"
      },
      "outputs": [
        {
          "output_type": "stream",
          "name": "stdout",
          "text": [
            "Area code for (555) 123-4567 is: (55\n",
            "1 (234) 567-8910 is not a valid phone number.\n",
            "5551234567 is not a valid phone number.\n"
          ]
        }
      ],
      "source": [
        "#4 Question: Extract area code\n",
        "\n",
        "inputs = [\"(555) 123-4567\",\n",
        "          \"1 (234) 567-8910\",\n",
        "          \"5551234567\"]\n",
        "\n"
      ]
    },
    {
      "cell_type": "code",
      "execution_count": null,
      "metadata": {
        "colab": {
          "base_uri": "https://localhost:8080/"
        },
        "id": "hZWYBspmU6NF",
        "outputId": "a43659c4-8852-4015-a266-a73acdc6d0c6"
      },
      "outputs": [
        {
          "output_type": "stream",
          "name": "stdout",
          "text": [
            "URL host: www.example.com\n"
          ]
        }
      ],
      "source": [
        "#5 Question: Match URLs and extract host\n",
        "\n",
        "inputs = [\"Visit https://www.example.com for more info\",\n",
        "          \"Our website is example.com\",\n",
        "          \"No URLs here\"]\n",
        "\n",
        "pattern = r'https?://([A-Za-z0-9.-]+)'\n",
        "\n",
        "for text in inputs:\n",
        "    matches = re.findall(pattern, text)\n",
        "    if matches:\n",
        "        for match in matches:\n",
        "            print(f\"URL host: {match}\")"
      ]
    },
    {
      "cell_type": "code",
      "execution_count": null,
      "metadata": {
        "colab": {
          "base_uri": "https://localhost:8080/"
        },
        "id": "jmfr8uDSU6NG",
        "outputId": "decfee6b-d298-4e46-bbf8-9352ea08204c"
      },
      "outputs": [
        {
          "output_type": "stream",
          "name": "stdout",
          "text": [
            "Hello world\n",
            " Main St\n",
            "greetingsmore\n"
          ]
        }
      ],
      "source": [
        "#6 Question: Remove non-alphabetic characters\n",
        "\n",
        "inputs = [\"Hello world!\",\n",
        "          \"123 Main St.\",\n",
        "          \"greetings&more\"]\n",
        "\n",
        "pattern = r'[^a-zA-Z\\s]'\n",
        "\n",
        "for text in inputs:\n",
        "    cleaned_text = re.sub(pattern, '', text)\n",
        "    print(cleaned_text)"
      ]
    },
    {
      "cell_type": "code",
      "execution_count": 19,
      "metadata": {
        "colab": {
          "base_uri": "https://localhost:8080/"
        },
        "id": "Lj4P1NuoU6NG",
        "outputId": "568e5982-21ce-4557-bed6-50244a0e2e15"
      },
      "outputs": [
        {
          "output_type": "stream",
          "name": "stdout",
          "text": [
            "station\n",
            "tion\n",
            "motion\n",
            "activation\n",
            "vacation\n"
          ]
        }
      ],
      "source": [
        "#7 Question: Find words containing \"tion\"\n",
        "\n",
        "inputs = [\"This is a test sentence with the word station in it.\",\n",
        "          \"No words containing tion here\",\n",
        "          \"motion activation vacation\"]\n",
        "\n",
        "pattern = r'\\b\\w*tion\\w*\\b'\n",
        "\n",
        "\n",
        "for text in inputs:\n",
        "    matches = re.findall(pattern, text)\n",
        "    if matches:\n",
        "        for match in matches:\n",
        "            print(match)"
      ]
    },
    {
      "cell_type": "code",
      "execution_count": null,
      "metadata": {
        "colab": {
          "base_uri": "https://localhost:8080/"
        },
        "id": "JpdWaFiGU6NG",
        "outputId": "c716874f-a8cd-4d52-f35b-ba588e4d9ebe"
      },
      "outputs": [
        {
          "output_type": "stream",
          "name": "stdout",
          "text": [
            "goodbye world\n",
            "goodbye there\n",
            "no match\n"
          ]
        }
      ],
      "source": [
        "#8 Question: Replace all occurrences of \"hello\" with \"goodbye\"\n",
        "\n",
        "inputs = [\"hello world\",\n",
        "          \"hello there\",\n",
        "          \"no match\"]\n",
        "\n",
        "pattern = r'hello'\n",
        "\n",
        "for text in inputs:\n",
        "    cleaned_text = re.sub(pattern, 'goodbye', text)\n",
        "    print(cleaned_text)"
      ]
    },
    {
      "cell_type": "code",
      "execution_count": 20,
      "metadata": {
        "id": "ceC6iO1FU6NH",
        "colab": {
          "base_uri": "https://localhost:8080/"
        },
        "outputId": "2adb977b-aa2f-4e01-8d42-e4fd28bafd25"
      },
      "outputs": [
        {
          "output_type": "stream",
          "name": "stdout",
          "text": [
            "\n",
            "T13:00:00Z\n"
          ]
        }
      ],
      "source": [
        "#9 Question: Extract date strings in ISO8601 format\n",
        "\n",
        "inputs = [\"Log from 2023-01-15\",\n",
        "          \"Meeting on 2023-02-01T13:00:00Z\",\n",
        "          \"No dates\"]\n",
        "\n",
        "pattern = r'\\d{4}-\\d{2}-\\d{2}(T\\d{2}:\\d{2}:\\d{2}Z)?'\n",
        "\n",
        "for text in inputs:\n",
        "    matches = re.findall(pattern, text)\n",
        "    if matches:\n",
        "        for match in matches:\n",
        "            print(match)"
      ]
    },
    {
      "cell_type": "code",
      "execution_count": null,
      "metadata": {
        "id": "wJhpL6moU6NH"
      },
      "outputs": [],
      "source": [
        "#10 Question: Validate correctly formatted date\n",
        "\n",
        "inputs = [\"2023-01-15\",\n",
        "          \"02/01/2023\",\n",
        "          \"invalid date\"]\n",
        "\n",
        " # your code here ...:\n"
      ]
    },
    {
      "cell_type": "code",
      "execution_count": 21,
      "metadata": {
        "id": "v7rGh6WYU6NH",
        "colab": {
          "base_uri": "https://localhost:8080/"
        },
        "outputId": "09cf169a-d0a6-4cf7-b62a-23b47e1b3c8d"
      },
      "outputs": [
        {
          "output_type": "stream",
          "name": "stdout",
          "text": [
            "Hello World\n",
            "123-Main_St\n",
            "Hi there\n"
          ]
        }
      ],
      "source": [
        "#11 Question: Remove punctuation except hyphens\n",
        "\n",
        "inputs = [\"Hello! World?\",\n",
        "          \"123-Main_St.\",\n",
        "          \"Hi there.\"]\n",
        "\n",
        "pattern = r'[^\\w\\s-]'\n",
        "\n",
        "for text in inputs:\n",
        "    cleaned_text = re.sub(pattern, '', text)\n",
        "    print(cleaned_text)"
      ]
    },
    {
      "cell_type": "code",
      "execution_count": null,
      "metadata": {
        "id": "xXKcjT-_U6NI"
      },
      "outputs": [],
      "source": [
        "#12 Question: Count occurrences of a word\n",
        "\n",
        "inputs = [\"Hello world. Hello!\",\n",
        "          \"Hello hello world\",\n",
        "          \"no match\"]\n",
        "\n",
        "# your code here ...:"
      ]
    },
    {
      "cell_type": "code",
      "execution_count": null,
      "metadata": {
        "id": "Mj8LzRz_U6NI"
      },
      "outputs": [],
      "source": [
        "#13 Question: Extract IP addresses from log\n",
        "\n",
        "inputs = [\"127.0.0.1 - GET /\",\n",
        "          \"User logged in from 192.168.1.1\",\n",
        "          \"No IPs\"]\n",
        "\n",
        "# your code here ...:"
      ]
    },
    {
      "cell_type": "code",
      "execution_count": null,
      "metadata": {
        "id": "I4BvdDIsU6NI"
      },
      "outputs": [],
      "source": [
        "#14 Question: Redact credit card and SSN numbers\n",
        "\n",
        "inputs = [\"Visa: 4111-1111-1111-1111\",\n",
        "          \"My SSN is 111-11-1111\",\n",
        "          \"No numbers\"]\n",
        "\n",
        "# your code here ...:"
      ]
    }
  ],
  "metadata": {
    "kernelspec": {
      "display_name": "ds",
      "language": "python",
      "name": "python3"
    },
    "language_info": {
      "codemirror_mode": {
        "name": "ipython",
        "version": 3
      },
      "file_extension": ".py",
      "mimetype": "text/x-python",
      "name": "python",
      "nbconvert_exporter": "python",
      "pygments_lexer": "ipython3",
      "version": "3.9.18"
    },
    "colab": {
      "provenance": []
    }
  },
  "nbformat": 4,
  "nbformat_minor": 0
}